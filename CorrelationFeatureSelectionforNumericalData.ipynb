{
 "cells": [
  {
   "cell_type": "code",
   "execution_count": 1,
   "id": "f97be590-f713-49f7-9ba6-bcd33230e8f2",
   "metadata": {},
   "outputs": [],
   "source": [
    "from sklearn.datasets import make_regression\n",
    "from sklearn.model_selection import train_test_split\n",
    "from sklearn.feature_selection import SelectKBest\n",
    "from sklearn.feature_selection import f_regression\n",
    "from matplotlib import pyplot"
   ]
  },
  {
   "cell_type": "code",
   "execution_count": 2,
   "id": "78469994-721a-4584-b5eb-d58e5561e935",
   "metadata": {},
   "outputs": [],
   "source": [
    "# feature selection\n",
    "def select_features(X_train, y_train, X_test):\n",
    "    # configure to select all features\n",
    "    fs = SelectKBest(score_func=f_regression, k='all')\n",
    "    # learn relationship from training data\n",
    "    fs.fit(X_train, y_train)\n",
    "    # transform train input data\n",
    "    X_train_fs = fs.transform(X_train)\n",
    "    # transform test input data\n",
    "    X_test_fs = fs.transform(X_test)\n",
    "    return X_train_fs, X_test_fs, fs"
   ]
  },
  {
   "cell_type": "code",
   "execution_count": 3,
   "id": "216be18c-b190-486e-8d30-ebcec4ea67a8",
   "metadata": {},
   "outputs": [],
   "source": [
    "# load the data set\n",
    "X, y = make_regression(n_samples=1000, n_features=100, n_informative=10, noise=0.1, random_state=1)"
   ]
  },
  {
   "cell_type": "code",
   "execution_count": 4,
   "id": "88581bea-a446-4f80-a694-cff186ca0514",
   "metadata": {},
   "outputs": [],
   "source": [
    "# split into train and test stes\n",
    "X_train, X_test, y_train, y_test = train_test_split(X, y, test_size=0.33, random_state=1)"
   ]
  },
  {
   "cell_type": "code",
   "execution_count": 5,
   "id": "1df19f63-d0d9-4ba3-b7dc-d7d253546ad4",
   "metadata": {},
   "outputs": [],
   "source": [
    "# faeture selection\n",
    "X_train_fs, X_test_fs, fs = select_features(X_train, y_train, X_test)"
   ]
  },
  {
   "cell_type": "code",
   "execution_count": 6,
   "id": "498b369c-83fe-4fa2-acdf-942d48d82a0b",
   "metadata": {},
   "outputs": [
    {
     "name": "stdout",
     "output_type": "stream",
     "text": [
      "FEATURES 0: 0.009419\n",
      "FEATURES 1: 1.018881\n",
      "FEATURES 2: 1.205187\n",
      "FEATURES 3: 0.000138\n",
      "FEATURES 4: 0.167511\n",
      "FEATURES 5: 5.985083\n",
      "FEATURES 6: 0.062405\n",
      "FEATURES 7: 1.455257\n",
      "FEATURES 8: 0.420384\n",
      "FEATURES 9: 101.392225\n",
      "FEATURES 10: 0.387091\n",
      "FEATURES 11: 1.581124\n",
      "FEATURES 12: 3.014463\n",
      "FEATURES 13: 0.232705\n",
      "FEATURES 14: 0.076281\n",
      "FEATURES 15: 4.299652\n",
      "FEATURES 16: 1.497530\n",
      "FEATURES 17: 0.261242\n",
      "FEATURES 18: 5.960005\n",
      "FEATURES 19: 0.523219\n",
      "FEATURES 20: 0.003365\n",
      "FEATURES 21: 0.024178\n",
      "FEATURES 22: 0.220958\n",
      "FEATURES 23: 0.576770\n",
      "FEATURES 24: 0.627198\n",
      "FEATURES 25: 0.350687\n",
      "FEATURES 26: 0.281877\n",
      "FEATURES 27: 0.584210\n",
      "FEATURES 28: 52.196337\n",
      "FEATURES 29: 0.046855\n",
      "FEATURES 30: 0.147323\n",
      "FEATURES 31: 0.368485\n",
      "FEATURES 32: 0.077631\n",
      "FEATURES 33: 0.698140\n",
      "FEATURES 34: 45.744046\n",
      "FEATURES 35: 2.047376\n",
      "FEATURES 36: 0.786270\n",
      "FEATURES 37: 0.996190\n",
      "FEATURES 38: 2.733533\n",
      "FEATURES 39: 63.957656\n",
      "FEATURES 40: 231.885540\n",
      "FEATURES 41: 1.372448\n",
      "FEATURES 42: 0.581860\n",
      "FEATURES 43: 1.072930\n",
      "FEATURES 44: 1.066976\n",
      "FEATURES 45: 0.344656\n",
      "FEATURES 46: 13.951551\n",
      "FEATURES 47: 3.575080\n",
      "FEATURES 48: 0.007299\n",
      "FEATURES 49: 0.004651\n",
      "FEATURES 50: 1.094585\n",
      "FEATURES 51: 0.241065\n",
      "FEATURES 52: 0.355137\n",
      "FEATURES 53: 0.020294\n",
      "FEATURES 54: 0.154567\n",
      "FEATURES 55: 2.592512\n",
      "FEATURES 56: 0.300175\n",
      "FEATURES 57: 0.357798\n",
      "FEATURES 58: 3.060090\n",
      "FEATURES 59: 0.890357\n",
      "FEATURES 60: 122.132164\n",
      "FEATURES 61: 2.029982\n",
      "FEATURES 62: 0.091551\n",
      "FEATURES 63: 1.081123\n",
      "FEATURES 64: 0.056041\n",
      "FEATURES 65: 2.930717\n",
      "FEATURES 66: 0.054886\n",
      "FEATURES 67: 1.332787\n",
      "FEATURES 68: 0.145579\n",
      "FEATURES 69: 0.986331\n",
      "FEATURES 70: 0.092661\n",
      "FEATURES 71: 0.083219\n",
      "FEATURES 72: 0.198847\n",
      "FEATURES 73: 2.065792\n",
      "FEATURES 74: 0.236594\n",
      "FEATURES 75: 0.512608\n",
      "FEATURES 76: 1.095650\n",
      "FEATURES 77: 0.015359\n",
      "FEATURES 78: 2.193730\n",
      "FEATURES 79: 1.574530\n",
      "FEATURES 80: 5.360863\n",
      "FEATURES 81: 0.041874\n",
      "FEATURES 82: 5.717705\n",
      "FEATURES 83: 0.436560\n",
      "FEATURES 84: 5.594438\n",
      "FEATURES 85: 0.000065\n",
      "FEATURES 86: 0.026748\n",
      "FEATURES 87: 0.408422\n",
      "FEATURES 88: 2.092557\n",
      "FEATURES 89: 9.568498\n",
      "FEATURES 90: 0.642445\n",
      "FEATURES 91: 0.065794\n",
      "FEATURES 92: 198.705931\n",
      "FEATURES 93: 0.073807\n",
      "FEATURES 94: 1.048605\n",
      "FEATURES 95: 0.004106\n",
      "FEATURES 96: 0.042110\n",
      "FEATURES 97: 0.034228\n",
      "FEATURES 98: 0.792433\n",
      "FEATURES 99: 0.015365\n"
     ]
    }
   ],
   "source": [
    "# what are scores for the features\n",
    "for i in range(len(fs.scores_)):\n",
    "    print('FEATURES %d: %f' % (i, fs.scores_[i]))"
   ]
  },
  {
   "cell_type": "code",
   "execution_count": 7,
   "id": "173eeb00-9b15-4938-8da9-8939adbde457",
   "metadata": {},
   "outputs": [
    {
     "data": {
      "image/png": "[encoded data removed]",
      "text/plain": [
       "<Figure size 432x288 with 1 Axes>"
      ]
     },
     "metadata": {
      "needs_background": "light"
     },
     "output_type": "display_data"
    }
   ],
   "source": [
    "# plot the scores\n",
    "pyplot.bar([i for i in range(len(fs.scores_))], fs.scores_)\n",
    "pyplot.show()"
   ]
  },
  {
   "cell_type": "code",
   "execution_count": null,
   "id": "b0e47513-cfed-4d4e-813c-019f25261a25",
   "metadata": {},
   "outputs": [],
   "source": []
  }
 ],
 "metadata": {
  "kernelspec": {
   "display_name": "Python 3 (ipykernel)",
   "language": "python",
   "name": "python3"
  },
  "language_info": {
   "codemirror_mode": {
    "name": "ipython",
    "version": 3
   },
   "file_extension": ".py",
   "mimetype": "text/x-python",
   "name": "python",
   "nbconvert_exporter": "python",
   "pygments_lexer": "ipython3",
   "version": "3.10.12"
  }
 },
 "nbformat": 4,
 "nbformat_minor": 5
}
